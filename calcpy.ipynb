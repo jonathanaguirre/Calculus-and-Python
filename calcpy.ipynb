{
  "metadata": {
    "kernelspec": {
      "name": "python",
      "display_name": "Python (Pyodide)",
      "language": "python"
    },
    "language_info": {
      "codemirror_mode": {
        "name": "python",
        "version": 3
      },
      "file_extension": ".py",
      "mimetype": "text/x-python",
      "name": "python",
      "nbconvert_exporter": "python",
      "pygments_lexer": "ipython3",
      "version": "3.8"
    }
  },
  "nbformat_minor": 5,
  "nbformat": 4,
  "cells": [
    {
      "id": "8d0c2228-761d-4c26-a20c-22b490187b3e",
      "cell_type": "markdown",
      "source": "# Calculus and Python",
      "metadata": {}
    },
    {
      "id": "ea540032-e3b1-42a4-b4fc-06810afc0842",
      "cell_type": "markdown",
      "source": "## Motivation\nI am starting the last course in a unified treatment of Calculus at a local community college. My learning process includes reading each chapter twice, creating notes, and solving end-of-section problems. End-of-Section problems increase in difficulty where having the solution manual is neccessary. But some problems don't have the solution or require more exploration. The goal of this repository is to promote an experimental mindset when applying Calculus and Python.\n\n## How to use\nThe comments in the code will contain the relevant Calculus concepts for easy reference and clarity. But please use other resources to learn the underlying Calculus concepts. Solutions are given in a way that makes sense to me and will closely follow the solution manual.\n\n## Citations\nSwokowski, Earl W. *Calculus: The Classic Edition*. 7th ed., Brooks/Cole, 2012.\nSwokowski, Earl W. *Student Solutions Manual for Calculus: The Classic Edition, Volume 2*. 7th ed., Brooks/Cole, 2012.\nOpenAI. \"ChatGPT\". Accessed March 19, 2025. [https://www.openai.com/chatgpt].",
      "metadata": {}
    },
    {
      "id": "2b6a9a66-6d45-496a-b062-eaed54822321",
      "cell_type": "markdown",
      "source": "# Install",
      "metadata": {}
    },
    {
      "id": "84d6f85b-ac1a-41c1-95b7-7624849c7b31",
      "cell_type": "code",
      "source": "# Install the neccessary packages.\n%pip install numpy sympy scipy pandas",
      "metadata": {
        "trusted": true
      },
      "outputs": [],
      "execution_count": null
    },
    {
      "id": "22f42de0-5aa7-436a-b552-0c9de1522a57",
      "cell_type": "markdown",
      "source": "# Import",
      "metadata": {}
    },
    {
      "id": "afe03698-bbb9-40b7-bd64-85104a971ced",
      "cell_type": "code",
      "source": "# Import the neccessary libraries.\nimport numpy as np                      # For numerical operations and array handling.\nimport sympy as sp                      # For symbolic mathematics.\nfrom scipy import integrate             # For numerical integration.\nimport pandas as pd                     # For data manipulation.",
      "metadata": {
        "trusted": true
      },
      "outputs": [],
      "execution_count": null
    },
    {
      "id": "57d60366-670b-4b78-9812-2b940d69d119",
      "cell_type": "markdown",
      "source": "# Vectors and Surfaces",
      "metadata": {}
    },
    {
      "id": "eea5455b-d50e-4c10-afb8-7005b5f989c3",
      "cell_type": "markdown",
      "source": "## Find Work Done",
      "metadata": {}
    },
    {
      "id": "d53f1c90-a9c9-4748-8c97-1ed8b30cb83d",
      "cell_type": "code",
      "source": "# A constant force of magnitude 4 pounds has the same direction as teh vector a = i + j + k. If distance is\n# find the work done if the point of application moves along the y-axis from (0,2,0) to (0,-1,0).\n\n# The magnitude of the constant force in pounds.\nforce_magnitude = 4\n\n# Define and solve the displacement vector from inital and final points. Note inital and final applications of force.\ninital_point = np.array([0, 2, 0])\nfinal_point = np.array([0, -1, 0])\ndisplacement_vector = final_point - inital_point\n\n# Define the direction vector. For this problem the direction vector a equals (1i + 1j + 1k).\na = np.array([1, 1, 1]) \n\n# The Unit vector in the direction of as defined by u = [1/norm(a)](a).\nu = [1/np.linalg.norm(a)] * a\n\n# The Force vector equals 4a/norm(a).\nforce_vector = force_magnitude * u \n\n# Work done, W is the dot product of the Force vector and the Displacement Vector.\nW = np.dot(force_vector, displacement_vector)\n\n# Output the results\nprint(\"Force Vector (F):\", force_vector)\nprint(\"Displacement Vector (d):\", displacement_vector)\nprint(\"Work Done (W):\", W)",
      "metadata": {
        "trusted": true
      },
      "outputs": [],
      "execution_count": null
    },
    {
      "id": "dec70702-f59f-47fb-a3a6-6a80ce2f6a5c",
      "cell_type": "markdown",
      "source": "## Find Work Done",
      "metadata": {}
    },
    {
      "id": "4da39bf4-e845-471f-9d08-bc9932b07f71",
      "cell_type": "code",
      "source": "# A constant force of magnitude 5 Newtons has the same direction as the positive z-axis. If distance is\n# measured in meters, find the work done if the point of application moves along a line from the origin\n# to the point P(1,2,3).\n\n# The magnitude of the constant force in pounds.\nforce_magnitude = 5\n\n# Define and solve the displacement vector from inital and final points. Note inital and final applications of force.\ninitial_point = np.array([0, 0, 0])\nfinal_point = np.array([1, 2, 3])\ndisplacement_vector = final_point - initial_point\n\n# Define the direction vector. For this problem the direction vector a equals (0i + 0j + 1k).\na = np.array([0, 0, 1]) \n\n# The Unit vector in the direction of as defined by u = [1/norm(a)](a).\nu = [1/np.linalg.norm(a)] * a \n\n# The Force vector equals 4a/norm(a).\nforce_vector = force_magnitude * u \n\n# Work done, W is the dot product of the Force vector and the Displacement Vector.\nW = np.dot(force_vector, displacement_vector)\n\n# Output the results\nprint(\"Force Vector (F):\", force_vector)\nprint(\"Displacement Vector (d):\", displacement_vector)\nprint(\"Work Done (W):\", W)",
      "metadata": {
        "trusted": true
      },
      "outputs": [],
      "execution_count": null
    },
    {
      "id": "b5ef53ce-12eb-47ac-9009-ba115b09c69d",
      "cell_type": "markdown",
      "source": "## Find the Work Done in Pulling a Wagon",
      "metadata": {}
    },
    {
      "id": "5901bdcb-672f-48f4-afd1-b3b6eb1de23a",
      "cell_type": "code",
      "source": "# A person pulls a wagon along level ground by exerting a force of 20 pounds on a handle that \n# makes an angle of 30 degrees with the horizontal. Find the work done in pulling the wagon 100 feet.\n\n# The magnitude of the constant force in pounds.\nforce_magnitude = 20\n\n# Define and solve the displacement vector from inital and final points. Note inital and final applications of force.\ninitial_point = np.array([0, 0, 0])\nfinal_point = np.array([100, 0, 0])\ndisplacement_vector = final_point - initial_point\n\n# Define the direction vector. The applied force makes a 30-degree angle with the horizontal.\n# When force is applied at angle theta to the horizontal: x-component = cos(theta), y-component = sin(theta)\n# When force is applied at angle theta to the vertical: y-component = cos(theta), x-component = sin(theta)\na = np.array([np.cos(np.radians(30)), np.sin(np.radians(30)), 0])\n\n# The Unit vector in the direction of as defined by u = [1/norm(a)](a).\nu = [1/np.linalg.norm(a)] * a \n\n# The Force vector equals 4a/norm(a).\nforce_vector = force_magnitude * u \n\n# Work done, W is the dot product of the Force vector and the Displacement Vector.\nW = np.dot(force_vector, displacement_vector)\n\n# Output the results\nprint(\"Force Vector (F):\", force_vector)\nprint(\"Displacement Vector (d):\", displacement_vector)\nprint(\"Work Done (W):\", W)",
      "metadata": {
        "trusted": true
      },
      "outputs": [],
      "execution_count": null
    }
  ]
}