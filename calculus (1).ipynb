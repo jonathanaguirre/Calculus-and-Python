{
  "metadata": {
    "kernelspec": {
      "name": "python",
      "display_name": "Python (Pyodide)",
      "language": "python"
    },
    "language_info": {
      "codemirror_mode": {
        "name": "python",
        "version": 3
      },
      "file_extension": ".py",
      "mimetype": "text/x-python",
      "name": "python",
      "nbconvert_exporter": "python",
      "pygments_lexer": "ipython3",
      "version": "3.8"
    }
  },
  "nbformat_minor": 5,
  "nbformat": 4,
  "cells": [
    {
      "id": "8d0c2228-761d-4c26-a20c-22b490187b3e",
      "cell_type": "markdown",
      "source": "# Calculus and Python",
      "metadata": {}
    },
    {
      "id": "ea540032-e3b1-42a4-b4fc-06810afc0842",
      "cell_type": "markdown",
      "source": "## Motivation\nI am starting the last course in a unified treatment of Calculus at a local Community College. My learning process includes: reading each chapter twice, make notes, and complete the homework problems at the end of each section. At the end of each section, problem difficulty increases. Having the solution manual helps but some problems need more exploration. The goal is to promote an experiemntal mindset when applying Calculus and Python.\n\n## How to use\nThe comments will contain the Calculus concept for easy reference and clarity. Use other resources (like your textbook!) to learn the underlying Calculus concept.\n\n## Citations\nSwokowski, Earl W. Calculus: The Classic Edition. 7th ed., Brooks/Cole, 2012.\nOpenAI. \"ChatGPT.\" Accessed March 19th, 2025. https://www.openai.com/chatgpt.",
      "metadata": {}
    },
    {
      "id": "2b6a9a66-6d45-496a-b062-eaed54822321",
      "cell_type": "markdown",
      "source": "# Install",
      "metadata": {}
    },
    {
      "id": "84d6f85b-ac1a-41c1-95b7-7624849c7b31",
      "cell_type": "code",
      "source": "# Install the neccessary packages\n%pip install numpy sympy matplotlib scipy pandas ipywidgets",
      "metadata": {
        "trusted": true
      },
      "outputs": [],
      "execution_count": null
    },
    {
      "id": "22f42de0-5aa7-436a-b552-0c9de1522a57",
      "cell_type": "markdown",
      "source": "# Import",
      "metadata": {}
    },
    {
      "id": "afe03698-bbb9-40b7-bd64-85104a971ced",
      "cell_type": "code",
      "source": "# Import the neccessary libraries.\nimport numpy as np                      # For numerical operations and array handling.\nimport sympy as sp                      # For symbolic mathematics.\nimport matplotlib.pyplot as plt         # For plotting graphs.\nfrom scipy import integrate             # For numerical integration.\nimport pandas as pd                     # For data manipulation.\nfrom mpl_toolkits.mplot3d import Axes3D # For 3D visualization. \nimport ipywidgets as widgets\nfrom IPython.display import display",
      "metadata": {
        "trusted": true
      },
      "outputs": [],
      "execution_count": null
    },
    {
      "id": "57d60366-670b-4b78-9812-2b940d69d119",
      "cell_type": "markdown",
      "source": "# Chapter 14 Vectors and Surfaces",
      "metadata": {}
    },
    {
      "id": "eea5455b-d50e-4c10-afb8-7005b5f989c3",
      "cell_type": "markdown",
      "source": "## Find Work Done",
      "metadata": {}
    },
    {
      "id": "1ac653c2-f8d9-4c7f-93f1-e6c02eec93c9",
      "cell_type": "code",
      "source": "# Step 1: Define the force magnitude and direction vector\nforce_magnitude = 4  # The magnitude of the constant force in pounds\na = np.array([1, 1, 1])  # The direction vector a = i + j + k\n\n# Step 2: Calculate the unit vector in the direction of a.\n# The unit vector is obtained by normalizing the direction vector.\n# Normalization is done by dividing the vector by its magnitude.\nunit_vector = a / np.linalg.norm(a)  # Normalize the vector a\n\n# Step 3: Calculate the force vector\n# The force vector F is the product of the force magnitude and the unit vector\nF = force_magnitude * unit_vector  # Force vector in the direction of a\n\n# Step 4: Define the initial and final points of the displacement\n# The initial point is (0, 2, 0) and the final point is (0, -1, 0)\ninitial_point = np.array([0, 2, 0])  # Starting point of the application of force\nfinal_point = np.array([0, -1, 0])    # Ending point of the application of force\n\n# Step 5: Calculate the displacement vector\n# The displacement vector d is calculated by subtracting the initial point from the final point\n# d = final_point - initial_point\nd = final_point - initial_point  # Displacement vector along the y-axis\n\n# Step 6: Calculate the work done using the dot product\n# The work done W by a force F along a displacement d is given by the dot product:\n# W = F · d\nW = np.dot(F, d)  # Calculate the work done\n\n# Output the results\nprint(\"Force Vector (F):\", F)  # Display the calculated force vector\nprint(\"Displacement Vector (d):\", d)  # Display the calculated displacement vector\nprint(\"Work Done (W):\", W)  # Display the calculated work done\n",
      "metadata": {
        "trusted": true
      },
      "outputs": [
        {
          "name": "stdout",
          "output_type": "stream",
          "text": "Force Vector (F): [23.09401077 23.09401077 23.09401077]\nDisplacement Vector (d): [ 0 -3  0]\nWork Done (W): -69.2820323027551\n"
        }
      ],
      "execution_count": 15
    },
    {
      "id": "bce208ec-4bfc-4a28-accb-23cfa7793aac",
      "cell_type": "code",
      "source": "",
      "metadata": {
        "trusted": true
      },
      "outputs": [],
      "execution_count": null
    }
  ]
}