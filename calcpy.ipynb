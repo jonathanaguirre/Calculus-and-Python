{
  "metadata": {
    "kernelspec": {
      "name": "python",
      "display_name": "Python (Pyodide)",
      "language": "python"
    },
    "language_info": {
      "codemirror_mode": {
        "name": "python",
        "version": 3
      },
      "file_extension": ".py",
      "mimetype": "text/x-python",
      "name": "python",
      "nbconvert_exporter": "python",
      "pygments_lexer": "ipython3",
      "version": "3.8"
    }
  },
  "nbformat_minor": 5,
  "nbformat": 4,
  "cells": [
    {
      "id": "8d0c2228-761d-4c26-a20c-22b490187b3e",
      "cell_type": "markdown",
      "source": "# Calculus and Python",
      "metadata": {}
    },
    {
      "id": "ea540032-e3b1-42a4-b4fc-06810afc0842",
      "cell_type": "markdown",
      "source": "## Motivation\nI am starting the last course in a unified treatment of Calculus at a local community college. My learning process includes reading each chapter twice, creating notes, and solving end-of-section problems. End-of-Section problems increase in difficulty where having the solution manual is neccessary. But some problems don't have the solution or require more exploration. The goal of this repository is to promote an experimental mindset when applying Calculus and Python with the help of chatbots. \n\n## How to use\nThe comments in the code will contain the relevant Calculus concepts for easy reference and clarity. But please use other resources to learn the underlying Calculus concepts fully. \n\n## Notation and Style\nSolutions are given in a way that makes sense to me and will closely follow the textbook and solution manual. However, theorems, collolaries, formulas, etc. will use TI-BASIC and python in the comments.\n\n## Citations\nSwokowski, Earl W. *Calculus: The Classic Edition*. 7th ed., Brooks/Cole, 2012.\n\nSwokowski, Earl W. *Student Solutions Manual for Calculus: The Classic Edition, Volume 2*. 7th ed., Brooks/Cole, 2012.\n\nOpenAI. \"ChatGPT\". Accessed March 19, 2025. [https://www.openai.com/chatgpt].",
      "metadata": {}
    },
    {
      "id": "2b6a9a66-6d45-496a-b062-eaed54822321",
      "cell_type": "markdown",
      "source": "# Install and Import",
      "metadata": {}
    },
    {
      "id": "4b1b1e7b-4fec-4381-8660-60ece04a4824",
      "cell_type": "code",
      "source": "# Install the neccessary packages.\n%pip install numpy sympy scipy pandas\n\n# Import the neccessary libraries.\nimport numpy as np                      # For numerical operations and array handling.\nimport sympy as sp                      # For symbolic mathematics.\nfrom scipy import integrate             # For numerical integration.\nimport pandas as pd                     # For data manipulation.",
      "metadata": {
        "trusted": true
      },
      "outputs": [],
      "execution_count": 49
    },
    {
      "id": "c8e5a419-c3d5-4bd7-9775-7b58c26418d8",
      "cell_type": "markdown",
      "source": "# Find Work Done\n## Along y-axis from P1, P2\nA constant force of magnitude 4 pounds has the same direction as the vector a = <i + j + k>. If distance is find the work done if the point of application moves along the y-axis from P1(0,2,0) to P2(0,-1,0).",
      "metadata": {}
    },
    {
      "id": "d53f1c90-a9c9-4748-8c97-1ed8b30cb83d",
      "cell_type": "code",
      "source": "# The magnitude of the constant force in pounds.\nforce_magnitude = 4\n\n# Define and Solve displacement vector from inital, final points. Note inital, final applications of force.\ninital_point = np.array([0, 2, 0])\nfinal_point = np.array([0, -1, 0])\ndisplacement_vector = final_point - inital_point\n\n# Define the direction vector. For this problem the direction vector a equals <1i + 1j + 1k>.\na = np.array([1, 1, 1]) \n\n# The Unit vector in the direction of as defined by u = [1/norm(a)](a).\nu = [1/np.linalg.norm(a)] * a\n\n# The Force vector equals 4a/norm(a).\nforce_vector = force_magnitude * u \n\n# Work done, W is the dot product of the Force vector and the Displacement Vector.\nW = np.dot(force_vector, displacement_vector)\n\n# Output the results\nprint(\"Force Vector (F):\", force_vector)\nprint(\"Displacement Vector (d):\", displacement_vector)\nprint(\"Work Done in pounds (W):\", W)",
      "metadata": {
        "trusted": true
      },
      "outputs": [
        {
          "name": "stdout",
          "output_type": "stream",
          "text": "Force Vector (F): [2.30940108 2.30940108 2.30940108]\nDisplacement Vector (d): [ 0 -3  0]\nWork Done in pounds (W): -6.9282032302755105\n"
        }
      ],
      "execution_count": 50
    },
    {
      "id": "d40ad3e7-c634-4117-8210-0dd19c3e218f",
      "cell_type": "markdown",
      "source": "## Along a line from O to P\nA constant force of magnitude 5 Newtons has the same direction as the positive z-axis. If distance is measured in meters, find the work done if the point of application moves along a line from the origin to the point P(1,2,3).",
      "metadata": {}
    },
    {
      "id": "4da39bf4-e845-471f-9d08-bc9932b07f71",
      "cell_type": "code",
      "source": "# The magnitude of the constant force in Newtons.\nforce_magnitude = 5\n\n# Define and Solve displacement vector from inital, final points. Note inital, final applications of force.\ninitial_point = np.array([0, 0, 0])\nfinal_point = np.array([1, 2, 3])\ndisplacement_vector = final_point - initial_point\n\n# Define the direction vector. For this problem the direction vector a equals <0i + 0j + 1k>.\na = np.array([0, 0, 1]) \n\n# The Unit vector in the direction of as defined by u = [1/norm(a)](a).\nu = [1/np.linalg.norm(a)] * a \n\n# The Force vector equals 4a/norm(a).\nforce_vector = force_magnitude * u \n\n# Work done, W is the dot product of the Force vector and the Displacement Vector.\nW = np.dot(force_vector, displacement_vector)\n\n# Output the results\nprint(\"Force Vector (F):\", force_vector)\nprint(\"Displacement Vector (d):\", displacement_vector)\nprint(\"Work Done in Newtons (W):\", W)",
      "metadata": {
        "trusted": true
      },
      "outputs": [
        {
          "name": "stdout",
          "output_type": "stream",
          "text": "Force Vector (F): [0. 0. 5.]\nDisplacement Vector (d): [1 2 3]\nWork Done in Newtons (W): 15.0\n"
        }
      ],
      "execution_count": 51
    },
    {
      "id": "fdc18d18-ec77-4954-8708-ab5026d1acbf",
      "cell_type": "markdown",
      "source": "## Angle with Horizontal\nA person pulls a wagon along level ground by exerting a force of 20 pounds on a handle that makes an angle of 30 degrees with the horizontal. Find the work done in pulling the wagon 100 feet.",
      "metadata": {}
    },
    {
      "id": "e160dbc2-0881-4ef6-a283-53ff9e803f81",
      "cell_type": "code",
      "source": "# The magnitude of the constant force in pounds.\nforce_magnitude = 20\n\n# Define and Solve displacement vector from inital, final points. Note inital, final applications of force.\ninitial_point = np.array([0, 0, 0])\nfinal_point = np.array([100, 0, 0])\ndisplacement_vector = final_point - initial_point\n\n# Define the direction vector. The applied force makes a 30-degree angle with the horizontal.\n# When force is applied at angle theta to the horizontal: x-component = cos(theta), y-component = sin(theta)\n# When force is applied at angle theta to the vertical: y-component = cos(theta), x-component = sin(theta)\na = np.array([np.cos(np.radians(30)), np.sin(np.radians(30)), 0])\n\n# The Unit vector in the direction of as defined by u = [1/norm(a)](a).\nu = [1/np.linalg.norm(a)] * a \n\n# The Force vector equals 4a/norm(a).\nforce_vector = force_magnitude * u \n\n# Work done is the dot product of the force vector and displacement vector.\nW = np.dot(force_vector, displacement_vector)\n\n# Output the results\nprint(\"Force Vector (F):\", force_vector)\nprint(\"Displacement Vector (d):\", displacement_vector)\nprint(\"Work Done in Pounds (W):\", W)",
      "metadata": {
        "trusted": true
      },
      "outputs": [
        {
          "name": "stdout",
          "output_type": "stream",
          "text": "Force Vector (F): [17.32050808 10.          0.        ]\nDisplacement Vector (d): [100   0   0]\nWork Done in Pounds (W): 1732.0508075688774\n"
        }
      ],
      "execution_count": 52
    },
    {
      "id": "9fdce5ce-c7e3-4cee-9746-ed0eec67f4de",
      "cell_type": "markdown",
      "source": "## Angle with x-axis and Incline\nFrom the problem above, Force Vector is 17.32050808; Displacement Vector is <100,0,0>; Work done is 1732.0508075688774. Find the work done if the wagon is pulled, with the same force, 100 feet up an incline that makes an angle of 30 degrees with the horizontal.",
      "metadata": {}
    },
    {
      "id": "0eacfd35-d97e-47c1-b14c-8e04b463d45f",
      "cell_type": "code",
      "source": "# Define values from previous problem.\nforce_vector = np.array([17.32050808, 10, 0])\ndisplacement_magnitude = 100\n\n# Assign vector components by using the angle with the horizontal.\n# When force is applied at angle theta to the horizontal: \n# x-component = cos(theta), y-component = sin(theta)\n# When force is applied at angle theta to the vertical:\n# y-component = cos(theta), x-component = sin(theta)\ndisplacement_x = displacement_magnitude * np.cos(np.radians(30))\ndisplacement_y = displacement_magnitude * np.sin(np.radians(30))\ndisplacement_vector = np.array([displacement_x, displacement_y, 0])\n\n# Work done is the dot product of the force vector and displacement vector.\nW = np.dot(force_vector, displacement_vector)\n\n# Output results:\nprint(\"Displacement Vector (d):\", displacement_vector)\nprint(\"Work Done in Pounds (W):\", W)",
      "metadata": {
        "trusted": true
      },
      "outputs": [
        {
          "name": "stdout",
          "output_type": "stream",
          "text": "Displacement Vector (d): [86.60254038 50.          0.        ]\nWork Done in Pounds (W): 2000.0000003733635\n"
        }
      ],
      "execution_count": 53
    },
    {
      "id": "54e60821-ad22-486e-8ea0-6d894685b5bc",
      "cell_type": "markdown",
      "source": "# Find the Angle between Vectors\n## In Terms of Components\nGiven a sequence A-B-C-D of four bonded atoms, the angle between the plane formed by A, B, and C as well as the plane formed by B, C, and D is called the torsion angle theta of the bond. This torsion angle is used to explain the stability of molecular structures. If segment BC is placed along the z-axis, how can theta be computed in terms of the components of vector BA and vector CD?",
      "metadata": {}
    },
    {
      "id": "556f5a8b-521f-48fb-b1e6-ef2871210297",
      "cell_type": "code",
      "source": "# These points represent the position of four bonded atoms in an xyz-axis coordinate system.\n# The problem states BC is aligned along the z-axis where i, j in B:<0, 0, 3> and C:<0, 0, 6> are zero.\nA = np.array([1, 2, 3])\nB = np.array([0, 0, 3])\nC = np.array([0, 0, 6])\nD = np.array([2, -1, 6])\n\n# These vectors represent the bonds between the atoms.\nBA = A - B\nBC = C - B\nCD = D - C\n\n# The normal vector to a plane formed by two vectors (BA and BC) is given by:\n# n1 = [a_y b_z - a_z b_y, a_z b_x - a_x b_z, a_x b_y - a_y b_x]\n# Note: The cross product (or vector product) of vector a cross vector b of \n# vector a = <a1, a2, a3> and vector b = <b1, b2, b3> is vector a cross vector b = \n# matrix('a2 a3; b2 b3')i - matrix('a1 a3; b1 b3')j + matrix('a1 a2; b1 b2')k\n# where i,j,k are unit vectors; can be used instead.\nn1_x = BA[1] * BC[2] - BA[2] * BC[1]\nn1_y = BA[2] * BC[0] - BA[0] * BC[2]\nn1_z = BA[0] * BC[1] - BA[1] * BC[0]\nn1 = np.array([n1_x, n1_y, n1_z])\n\n# The above procedure applies here too.\nn2_x = BC[1] * CD[2] - BC[2] * CD[1]\nn2_y = BC[2] * CD[0] - BC[0] * CD[2]\nn2_z = BC[0] * CD[1] - BC[1] * CD[0]\nn2 = np.array([n2_x, n2_y, n2_z])\n\n# The torsion angle can be calculated by the dot product over normals n1, n2.\n# If theta is the angle between nonzero vectors n1 and n2, then \n# cos(theta) = DotP(n1, n2) / [Norm(n1)][Norm(n2)].\ncos_theta = np.dot(n1, n2) / (np.linalg.norm(n1) * np.linalg.norm(n2))\n\n# Solving for theta, then applying clip to avoid numerical errors.\ntheta = np.arccos(np.clip(cos_theta, -1.0, 1.0))\ntheta_degrees = np.degrees(theta)\n\n# Display results.\\\nprint(\"Coordinates:\")\nprint(\"A =\", A)\nprint(\"B =\", B)\nprint(\"C =\", C)\nprint(\"D =\", D)\nprint()\n\nprint(\"Vectors:\")\nprint(\"BA =\", BA)\nprint(\"BC =\", BC)\nprint(\"CD =\", CD)\nprint()\n\nprint(\"Normal vector to plane ABC (n1):\")\nprint(\"n1_x =\", n1_x, \"n1_y =\", n1_y, \"n1_z =\", n1_z)\nprint(\"n1 =\", n1)\nprint()\n\nprint(\"Normal vector to plane BCD (n2):\")\nprint(\"n2_x =\", n2_x, \"n2_y =\", n2_y, \"n2_z =\", n2_z)\nprint(\"n2 =\", n2)\nprint()\n\nprint(\"Torsion angle in radians:\")\nprint(theta)\nprint(\"Torsion angle in degrees:\")\nprint(theta_degrees)",
      "metadata": {
        "trusted": true
      },
      "outputs": [
        {
          "name": "stdout",
          "output_type": "stream",
          "text": "Coordinates:\nA = [1 2 3]\nB = [0 0 3]\nC = [0 0 6]\nD = [ 2 -1  6]\n\nVectors:\nBA = [1 2 0]\nBC = [0 0 3]\nCD = [ 2 -1  0]\n\nNormal vector to plane ABC (n1):\nn1_x = 6 n1_y = -3 n1_z = 0\nn1 = [ 6 -3  0]\n\nNormal vector to plane BCD (n2):\nn2_x = 3 n2_y = 6 n2_z = 0\nn2 = [3 6 0]\n\nTorsion angle in radians:\n1.5707963267948966\nTorsion angle in degrees:\n90.0\n"
        }
      ],
      "execution_count": 54
    },
    {
      "id": "b2541d4a-cbff-45a8-803a-790a94c8a32b",
      "cell_type": "markdown",
      "source": "# Volume of Box \n## Find the Angle between Vectors\nSuppose vector a, vector b, and vector c represent sides of an oblique box. Show that abs(Dotp(CrossP(a,b),c)) is the volume of the box.",
      "metadata": {}
    },
    {
      "id": "e30ecdec-5e43-45cf-afc9-dd017392014d",
      "cell_type": "code",
      "source": "# Define example vectors.\na = np.array([3, 0, 0])\nb = np.array([0, 4, 0])\nc = np.array([0, 0, 5])\n\n# Note: The cross product (or vector product) of vector a cross vector b of \n# vector a = <a1, a2, a3> and vector b = <b1, b2, b3> is vector a cross vector b = \n# matrix('a2 a3; b2 b3')i - matrix('a1 a3; b1 b3')j + matrix('a1 a2; b1 b2')k\n# where i,j,k are unit vectors.\ncross_product = np.cross(a, b)\n\n# The scalar triple prodcut can be calculated by taking vector a cross vector b \n# dot c as shown in TI-Basic: DotP(CrossP(a,b),c)).\nscalar_triple = np.dot(cross_product, c)\n\n# The volume is the absolute value of the scalar triple product must be taken \n# as the angle may be an obtuse angle.\nvolume = abs(scalar_triple)\n\n# Print the results.\nprint(\"Vector a:\", a)\nprint(\"Vector b:\", b)\nprint(\"Vector c:\", c)\nprint()\nprint(\"Cross product:\", cross_product)\nprint(\"Scalar triple product: \", scalar_triple)\nprint(\"Volume of the parallelepiped:\", volume)",
      "metadata": {
        "trusted": true
      },
      "outputs": [
        {
          "name": "stdout",
          "output_type": "stream",
          "text": "Vector a: [3 0 0]\nVector b: [0 4 0]\nVector c: [0 0 5]\n\nCross product: [ 0  0 12]\nScalar triple product:  60\nVolume of the parallelepiped: 60\n"
        }
      ],
      "execution_count": 55
    },
    {
      "id": "c86917c6-6683-4f5a-b068-27b8ce8d1f86",
      "cell_type": "markdown",
      "source": "## Find the Volume of a Box\nUsing the above problem, find the volume of the box having adjacent sides AB, AC, and AD. A(2,1,-1), B(3,0,2), C(4,-2,1), D(5,-3,0).",
      "metadata": {}
    },
    {
      "id": "ec0fee85-8411-4847-b9fb-2d1b025051ec",
      "cell_type": "code",
      "source": "# Given the points representing vertices of the box:\nA = np.array([2, 1, -1])\nB = np.array([3, 0, 2])\nC = np.array([4, -2, 1])\nD = np.array([5, -3, 0])\n\n# THe volume of the box with adjacent vector sides AB, AC, and AD\nAB = B - A\nAC = C - A\nAD = D - A\n\n# The volume of the parallelepiped is defined by the absolute value of their \n# scalar triple product: abs(DotP(u,CrossP(v,w)) where u = AB, v = AC, and w = AD.\ncross_product = np.cross(AC, AD)\nscalar_triple = np.dot(AB, cross_product)\nvolume = abs(scalar_triple)\n\n# Print results.\nprint(\"Point A:\", A)\nprint(\"Point B:\", B)\nprint(\"Point C:\", C)\nprint(\"Point D:\", D)\nprint()\n\nprint(\"Vector AB (B - A):\", AB)\nprint(\"Vector AC (C - A):\", AC)\nprint(\"Vector AD (D - A):\", AD)\nprint()\n\nprint(\"Cross product of AC and AD:\", cross_product)\nprint(\"Scalar triple product:\", scalar_triple)\nprint(\"Volume of the parallelepiped (absolute value):\", volume)",
      "metadata": {
        "trusted": true
      },
      "outputs": [
        {
          "name": "stdout",
          "output_type": "stream",
          "text": "Point A: [ 2  1 -1]\nPoint B: [3 0 2]\nPoint C: [ 4 -2  1]\nPoint D: [ 5 -3  0]\n\nVector AB (B - A): [ 1 -1  3]\nVector AC (C - A): [ 2 -3  2]\nVector AD (D - A): [ 3 -4  1]\n\nCross product of AC and AD: [5 4 1]\nScalar triple product: 4\nVolume of the parallelepiped (absolute value): 4\n"
        }
      ],
      "execution_count": 56
    }
  ]
}